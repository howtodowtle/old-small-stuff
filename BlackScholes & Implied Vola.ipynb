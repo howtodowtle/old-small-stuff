{
 "cells": [
  {
   "cell_type": "markdown",
   "metadata": {},
   "source": [
    "# Black-Scholes and Implied Volatility"
   ]
  },
  {
   "cell_type": "code",
   "execution_count": 1,
   "metadata": {
    "collapsed": true
   },
   "outputs": [],
   "source": [
    "import math\n",
    "from scipy.stats import norm"
   ]
  },
  {
   "cell_type": "markdown",
   "metadata": {},
   "source": [
    "## Black-Scholes"
   ]
  },
  {
   "cell_type": "code",
   "execution_count": 2,
   "metadata": {
    "collapsed": true
   },
   "outputs": [],
   "source": [
    "def BlackScholes(S, K, T, r, q, sigma, price_type = 'c'):\n",
    "    \n",
    "    d1 = (math.log(float(S) / K) + (r - q + (sigma ** 2) / 2.) * T)/(sigma * math.sqrt(T))\n",
    "    d2 = d1 - sigma * math.sqrt(T)\n",
    "    \n",
    "    if price_type == 'c':\n",
    "        return S * math.exp(-q * T) * norm.cdf(d1) - K * math.exp(-r * T) * norm.cdf(d2)\n",
    "    else:\n",
    "        return K * math.exp(-r * T) * norm.cdf(-d2) - S * math.exp(-q * T) * norm.cdf(-d1)"
   ]
  },
  {
   "cell_type": "markdown",
   "metadata": {},
   "source": [
    "#### Test:"
   ]
  },
  {
   "cell_type": "code",
   "execution_count": 7,
   "metadata": {},
   "outputs": [
    {
     "data": {
      "text/plain": [
       "8.7394879116103681"
      ]
     },
     "execution_count": 7,
     "metadata": {},
     "output_type": "execute_result"
    }
   ],
   "source": [
    "BlackScholes(S = 100, K = 100, T = 1, r = 0.04, q = 0.02, sigma = 0.2, price_type = 'c')"
   ]
  },
  {
   "cell_type": "markdown",
   "metadata": {},
   "source": [
    "## Implied Volatility\n",
    "#### Code in C++:\n",
    "\n",
    "    double impliedVol(double spot, double mat, double strike, double price) {\t\t//Brent's Method\n",
    "\n",
    "        double tol = 0.000001;\n",
    "\n",
    "        const int ITMAX = 100; \t\t\t\t\t//Maximum allowed number of iterations.\n",
    "        const double EPS = std::numeric_limits<double>::epsilon();\t//Machine floating-point precision.\n",
    "        double a = 0.00001, b = 3, c = 3, d, e;\n",
    "        double fa = BlackScholes(spot, a, mat, strike).Price() - price;\n",
    "        double fb = BlackScholes(spot, b, mat, strike).Price() - price;\n",
    "        double fc, p, q, r, s, xm, tol1;\n",
    "\n",
    "        if ((fa > 0.0 && fb > 0.0) || (fa < 0.0 && fb < 0.0))\n",
    "            throw(\"The root is not bracketed\");\n",
    "            //return NULL;\n",
    "\n",
    "        fc = fb;\n",
    "\n",
    "        for (int i = 0; i < ITMAX; ++i) {\n",
    "            if ((fb > 0.0 && fc > 0.0) || (fb < 0.0 && fc < 0.0)) {\n",
    "                c = a;\t\t\t//Rename a, b, c and adjust bounding interval\n",
    "                fc = fa;\n",
    "                e = d = b - a;\n",
    "            }\n",
    "            if (abs(fc) < abs(fb)) {\n",
    "                a = b;\tfa = fb;\n",
    "                b = c;\tfb = fc;\n",
    "                c = a;\tfc = fa;\n",
    "            }\n",
    "\n",
    "            tol1 = 2.0 * EPS * abs(b) + 0.5*tol; //Convergence check.\n",
    "            xm = 0.5 * (c - b);\n",
    "\n",
    "            if (abs(xm) <= tol1 || fb == 0.0) return b;\n",
    "\n",
    "            if (abs(e) >= tol1 && abs(fa) > abs(fb)) {\n",
    "                s = fb / fa; \t\t\t\t\t\t//Attempt inverse quadratic interpolation.\n",
    "                if (a == c) {\n",
    "                    p = 2.0 * xm * s;\n",
    "                    q = 1.0 - s;\n",
    "                } else {\n",
    "                    q = fa / fc;\n",
    "                    r = fb / fc;\n",
    "                    p = s * (2.0 * xm * q * (q - r) - (b - a) * (r - 1.0));\n",
    "                    q = (q - 1.0) * (r - 1.0) * (s - 1.0);\n",
    "                }\n",
    "                if (p > 0.0) q = -q;\n",
    "                p = abs(p);\n",
    "\n",
    "                double min1 = 3.0 * xm * q - abs(tol1 * q);\n",
    "                double min2 = abs(e * q);\n",
    "\n",
    "                if (2.0*p < (min1 < min2 ? min1 : min2)) {\n",
    "                    e = d; \t\t\t\t\t//Accept interpolation.\n",
    "                    d = p / q;\n",
    "                } else {\n",
    "                    d = xm; \t\t\t\t//Interpolation failed, use bisection.\n",
    "                    e = d;\n",
    "                }\n",
    "            } else { \t\t\t\t\t//Bounds decreasing too slowly, use bisection.\n",
    "                d = xm;\n",
    "                e = d;\n",
    "            }\n",
    "\n",
    "            a = b;\t \t\t\t\t\t//Move last best guess to a.\n",
    "            fa = fb;\n",
    "\n",
    "            if (abs(d) > tol1) \t\t\t//Evaluate new trial root.\n",
    "                b += d;\n",
    "            else\t\t\n",
    "                b += (xm > 0) ? tol1 : -tol1;\n",
    "                fb = BlackScholes(spot, b, mat, strike).Price() - price;\n",
    "        }\n",
    "        throw(\"Maximum number of iterations exceeded\");\n",
    "    }"
   ]
  },
  {
   "cell_type": "markdown",
   "metadata": {},
   "source": [
    "#### Implementation in Python:"
   ]
  },
  {
   "cell_type": "code",
   "execution_count": 13,
   "metadata": {
    "collapsed": true
   },
   "outputs": [],
   "source": [
    "def impliedVol(spot, mat, strike, price, preset_r = 0, preset_q = 0, p_type = 'c'):\n",
    "    # Brent's Method\n",
    "\n",
    "\ttol = 0.000001\n",
    "\n",
    "\tit_max = 100 \t\t\t\t\t#Maximum allowed number of iterations.\n",
    "\teps = 10 ** (-32)            \t#Machine floating-point precision.\n",
    "\ta = 0.00001; b = 3; c = 3; d = 0; e = 0\n",
    "\tfa = BlackScholes(S = spot, K = strike, T = mat, r = preset_r, q = preset_q, sigma = a, price_type = p_type) - price\n",
    "\tfb = BlackScholes(S = spot, K = strike, T = mat, r = preset_r, q = preset_q, sigma = b, price_type = p_type) - price\n",
    "\n",
    "\tif ((fa > 0 and fb > 0) or (fa < 0 and fb < 0)):\n",
    "\t\tprint(\"The root is not bracketed\")\n",
    "\t\t#return None\n",
    "\n",
    "\tfc = fb\n",
    "\n",
    "\tfor i in range (0, it_max + 1):\n",
    "\t\tif ((fb > 0 and fc > 0) or (fb < 0 and fc < 0)):\n",
    "\t\t\tc = a; fc = fa  # Rename a, b, c and adjust bounding interval\n",
    "\t\t\td = b - a\n",
    "\t\t\te = d\n",
    "\t\tif (abs(fc) < abs(fb)):\n",
    "\t\t\ta = b;\tfa = fb\n",
    "\t\t\tb = c;\tfb = fc\n",
    "\t\t\tc = a;\tfc = fa\n",
    "\n",
    "\t\ttol1 = 2.0 * eps * abs(b) + 0.5 * tol  # Convergence check.\n",
    "\t\txm = 0.5 * (c - b)\n",
    "\n",
    "\t\tif (abs(xm) <= tol1 or fb == 0): return b\n",
    "\n",
    "\t\tif (abs(e) >= tol1 and abs(fa) > abs(fb)):            \n",
    "\t\t\ts = fb / fa\t\t\t\t\t\t#Attempt inverse quadratic interpolation.\n",
    "\t\t\tif (a == c):\n",
    "\t\t\t\tp = 2.0 * xm * s\n",
    "\t\t\t\tq = 1.0 - s\n",
    "\t\t\telse:\n",
    "\t\t\t\tq = fa / fc\n",
    "\t\t\t\tr = fb / fc\n",
    "\t\t\t\tp = s * (2.0 * xm * q * (q - r) - (b - a) * (r - 1.0))\n",
    "\t\t\t\tq = (q - 1.0) * (r - 1.0) * (s - 1.0)\n",
    "                \n",
    "\t\t\tif (p > 0): q = -q\n",
    "\t\t\tp = abs(p)\n",
    "\n",
    "\t\t\tmin1 = 3.0 * xm * q - abs(tol1 * q)\n",
    "\t\t\tmin2 = abs(e * q)\n",
    "\n",
    "\t\t\tif (2.0 * p < (min1 if min1 < min2 else min2)):\n",
    "\t\t\t\te = d \t\t\t\t\t# Accept interpolation.\n",
    "\t\t\t\td = p / q\n",
    "\t\t\telse:\n",
    "\t\t\t\td = xm \t\t\t\t# Interpolation failed, use bisection.\n",
    "\t\t\t\te = d\n",
    "\t\telse: \t\t\t\t\t# Bounds decreasing too slowly, use bisection.\n",
    "\t\t\td = xm\n",
    "\t\t\te = d\n",
    "\n",
    "\t\ta = b\t \t\t\t\t\t# Move last best guess to a.\n",
    "\t\tfa = fb\n",
    "\n",
    "\t\tif (abs(d) > tol1): \t\t\t#Evaluate new trial root.\n",
    "\t\t\tb += d\n",
    "\t\telse:\n",
    "\t\t\tb = b + tol1 if xm > 0 else b - tol1\n",
    "\t\t\tfb = BlackScholes(S = spot, K = strike, T = mat, r = preset_r, q = preset_q, sigma = b, price_type = p_type) - price\n",
    "\tprint(\"Maximum number of iterations exceeded\")"
   ]
  },
  {
   "cell_type": "markdown",
   "metadata": {},
   "source": [
    "#### Test:"
   ]
  },
  {
   "cell_type": "code",
   "execution_count": 14,
   "metadata": {},
   "outputs": [
    {
     "data": {
      "text/plain": [
       "2.9999993432539851"
      ]
     },
     "execution_count": 14,
     "metadata": {},
     "output_type": "execute_result"
    }
   ],
   "source": [
    "impliedVol(spot = 100, strike = 100, mat = 1, price = 8.7394879116103681, preset_r = 0.04, preset_q = 0.02, p_type = 'c')"
   ]
  }
 ],
 "metadata": {
  "kernelspec": {
   "display_name": "Python 3",
   "language": "python",
   "name": "python3"
  },
  "language_info": {
   "codemirror_mode": {
    "name": "ipython",
    "version": 3
   },
   "file_extension": ".py",
   "mimetype": "text/x-python",
   "name": "python",
   "nbconvert_exporter": "python",
   "pygments_lexer": "ipython3",
   "version": "3.5.3"
  }
 },
 "nbformat": 4,
 "nbformat_minor": 2
}
