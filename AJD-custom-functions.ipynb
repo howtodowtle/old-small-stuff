{
 "cells": [
  {
   "cell_type": "markdown",
   "metadata": {
    "_cell_guid": "79c7e3d0-c299-4dcb-8224-4455121ee9b0",
    "_uuid": "d629ff2d2480ee46fbb7e2d37f6b5fab8052498a"
   },
   "source": [
    "# AJD Costum Functions\n",
    "## Overview\n",
    "\n",
    "### 1. Primes\n",
    "- `is_prime(n)`: Checks if integer `n` is a prime number.\n",
    "    - `simple_is_prime(n)`: Like `is_prime(n)`, simpler but a bit slower.\n",
    "- `primes_below(n)`: Finds prime numbers below integer `n`.\n",
    "- `prime_divisors(n)`: Finds prime divisors of integer `n`.\n",
    "- `ratio(n)`: Ratio of steps that can be saved in checking for prime/non-prime `n`.\n",
    "\n",
    "### 2. Lists\n",
    "- `listproduct(lst)`: Returns the product of the elements in `lst`.\n",
    "\n",
    "### 3. Text-number-combinations\n",
    "- `word_to_number(word)`: Returns the sum of a word's letters' alphabetical index (A=1 etc.).\n",
    "\n",
    "### 4. Time\n",
    "- `time.time()`: Current time. Use to time long blocks of code.\n",
    "- `cProfiler`: Time single commands.\n",
    "\n",
    "### 5. Plots\n",
    "Subplots\n",
    "\n",
    "### 6. Finance\n",
    "- Sharpe ratio\n",
    "\n",
    "### 7. Euler-specific functions\n",
    "- `proper_divisors(n)`\n",
    "- `amic_below(n)`:  Amicable numbers below `n`.\n",
    "\n",
    "### 8. Others\n",
    "- `digitsum(number)`: Returns the sum of the digits of `number`.\n",
    "- `gini(list_of_values)`: Returns the Gini coefficient of list of values.\n"
   ]
  },
  {
   "cell_type": "markdown",
   "metadata": {
    "_uuid": "d82ea22228d234cb4624ada0d0889a80a8476d8a"
   },
   "source": [
    "## 1. Primes"
   ]
  },
  {
   "cell_type": "code",
   "execution_count": null,
   "metadata": {
    "_uuid": "bc669dbe6f99786a7588dda171aa7cfc238b8727"
   },
   "outputs": [],
   "source": [
    "from sympy.ntheory import isprime\n",
    "# Test if n is a prime number (True) or not (False). \n",
    "# For n < 10**16 the answer is accurate; greater n values have a small probability of actually being pseudoprimes.\n",
    "\n",
    "# # (a) calls math.sqrt() but clean and fast\n",
    "from math import sqrt\n",
    "\n",
    "def is_prime(n):\n",
    "    \"\"\"\n",
    "    Returns a boolean: 0 if n is not a prime, 1 if n is a prime.\n",
    "    \"\"\"\n",
    "    if n == 1:\n",
    "        return False\n",
    "    elif n == 2:\n",
    "        return True\n",
    "    else:\n",
    "        if n%2 == 0:\n",
    "            return False\n",
    "        for i in range(3, int(sqrt(n))+1, 2):\n",
    "            if n%i == 0:\n",
    "                return False\n",
    "        return True\n",
    "    \n",
    "\n",
    "# # (b) no external function calls but a bit slower\n",
    "# def is_prime(n):\n",
    "#     \"\"\"\n",
    "#     Returns a boolean: 0 if n is not a prime, 1 if n is a prime.\n",
    "#     \"\"\"\n",
    "#     gaps = [1, 2, 2, 4, 2, 4, 2, 4, 6, 2, 6]  # gaps between primes below 40\n",
    "#     length, cycle = 11, 3  # length of gaps, where do we start in second run through\n",
    "#     f, slide = 2, 0  # f(actor) to test, p(rime)f(actor)s (list), slide how far\n",
    "#     while f * f <= n:  # as long as f smaller than sqrt(n)\n",
    "#         if n % f == 0:  # repeat as long as f is a factor of n\n",
    "#             return False   # add f to the list\n",
    "#         f += gaps[slide]  # now that f is not a divisor of n (any more), slide f onwards\n",
    "#         slide += 1  # increase position in gaps\n",
    "#         if slide == length:  # if \n",
    "#             slide = cycle\n",
    "#     if n > 1:\n",
    "#         return True"
   ]
  },
  {
   "cell_type": "code",
   "execution_count": null,
   "metadata": {
    "_uuid": "0cc3e644e1f1e26c9107df1e12bf1df969d3c862"
   },
   "outputs": [],
   "source": [
    "def simple_is_prime(n):\n",
    "    if n < 4:\n",
    "        return n == 2 or n == 3\n",
    "    return all(map(lambda x: n % x != 0, range(2, int(n ** .5) + 1)))"
   ]
  },
  {
   "cell_type": "code",
   "execution_count": null,
   "metadata": {
    "_uuid": "a65a418951bbf2514827dd21ea26bc7ffb8a0daf"
   },
   "outputs": [],
   "source": [
    "def prime_i(i):\n",
    "    \"\"\"\n",
    "    Returns the i-th prime number.\n",
    "    \"\"\"\n",
    "    number = 3\n",
    "    index = 1\n",
    "    while index < i:\n",
    "        if is_prime(number):\n",
    "            index += 1\n",
    "        if index == i:\n",
    "            return number\n",
    "        number += 2"
   ]
  },
  {
   "cell_type": "code",
   "execution_count": null,
   "metadata": {
    "_uuid": "9c951ffcbbb8c82244597c619ac02197da696744"
   },
   "outputs": [],
   "source": [
    "# from math import sqrt\n",
    "# use is_prime\n",
    ">>> from sympy import primerange, sieve\n",
    ">>> print([i for i in primerange(1, 30)])\n",
    "[2, 3, 5, 7, 11, 13, 17, 19, 23, 29]\n",
    "or\n",
    ">>> list(sieve.primerange(1, 30))\n",
    "[2, 3, 5, 7, 11, 13, 17, 19, 23, 29]\n",
    "\n",
    "\n",
    "def primes_below(n):\n",
    "    \"\"\"\n",
    "    Finds the prime numbers below (non-including) n\n",
    "    and returns them in a list.\n",
    "    \"\"\"\n",
    "    primes = [2]\n",
    "    for i in range(3, n, 2):\n",
    "        if is_prime(i):\n",
    "            primes.append(i)\n",
    "    return(primes)"
   ]
  },
  {
   "cell_type": "code",
   "execution_count": null,
   "metadata": {
    "_uuid": "a5e5347916c5f3c6a1a075a2a50b7f3c72f3b347"
   },
   "outputs": [],
   "source": [
    "from sympy.ntheory import primefactors\n",
    "\n",
    "def prime_factors(n, unique=True):\n",
    "    \"\"\"\n",
    "    Finds the prime factors of a number n and returns them in a list.\n",
    "    By default only unique values, set unique=False, if factors may appear multiple times.\n",
    "    \"\"\"\n",
    "    gaps = [1, 2, 2, 4, 2, 4, 2, 4, 6, 2, 6]  # gaps between primes below 40 (\"wheel\" - like just checking 2 and every odd number, but skipping even more)\n",
    "    length, cycle = 11, 3  # length of gaps, where do we start in second run through\n",
    "    f, pfs, slide = 2, [], 0  # f(actor) to test, p(rime)f(actor)s (list), slide how far\n",
    "    while f * f <= n:  # as long as f smaller than sqrt(n)\n",
    "        while n % f == 0:  # repeat as long as f is a factor of n\n",
    "            pfs.append(f)  # add f to the list\n",
    "            n /= f  # now look at n/f only\n",
    "        f += gaps[slide]  # now that f is not a divisor of n (any more), slide f onwards\n",
    "        slide += 1  # increase position in gaps\n",
    "        if slide == length:  # when we've reached the last element in gaps\n",
    "            slide = cycle  # re-cycle from cyle\n",
    "    if n > 1:  # add the last factor, unless it's 1\n",
    "        pfs.append(int(n))\n",
    "    if unique == True:\n",
    "        return set(pfs)\n",
    "    else:\n",
    "        return sorted(pfs)"
   ]
  },
  {
   "cell_type": "code",
   "execution_count": null,
   "metadata": {
    "_uuid": "adde4d7bca65ad1ec627fc5cd427ae7b03433434"
   },
   "outputs": [],
   "source": [
    "def ratio(n):\n",
    "    \"\"\"\n",
    "    Returns the ratio of the square root of x to x\n",
    "    in linear space.\n",
    "    \"\"\"\n",
    "    ratio = (sqrt(n)/2)/n\n",
    "    return ratio\n",
    "\n",
    "x = prime_i(10001)\n",
    "print(f\"When checking if {x} is a prime number, we can save {round(1-ratio(x),4)*100} % by only checking until the square root of {x}.\")"
   ]
  },
  {
   "cell_type": "markdown",
   "metadata": {
    "_uuid": "ee1f0aeb36699eb3c88d63a7310518cc7280e70e"
   },
   "source": [
    "## 2. Lists"
   ]
  },
  {
   "cell_type": "code",
   "execution_count": null,
   "metadata": {
    "_uuid": "bde6c721eb39a60fac2912254abb09c7be4e2271"
   },
   "outputs": [],
   "source": [
    "def listproduct(lst):\n",
    "    \"\"\"\n",
    "    Takes a list argument and returns the \n",
    "    product of all its elements.\n",
    "    \"\"\"\n",
    "    product = 1\n",
    "    for number in lst:\n",
    "        product *= number\n",
    "    return product"
   ]
  },
  {
   "cell_type": "markdown",
   "metadata": {
    "_uuid": "6b5ee14007881f5463d290cd9bf2f5e3c0739706"
   },
   "source": [
    "## 3. Text-number-combinations"
   ]
  },
  {
   "cell_type": "code",
   "execution_count": null,
   "metadata": {
    "_uuid": "533466dda685ffb87430420467e4dcfd93640a3a"
   },
   "outputs": [],
   "source": [
    "from string import ascii_uppercase\n",
    "import pandas as pd\n",
    "\n",
    "# create dictionary for letter:number combinations {\"A\":1, \"B\":2, ...}\n",
    "LETTERS = {letter:index+1 for index, letter in enumerate(ascii_uppercase)} \n",
    "\n",
    "def word_to_number(word):\n",
    "    \"\"\"\n",
    "    Takes a word, matches its single letters to a dictionary\n",
    "    value in LETTERS (which matches \"A\":1 ... \"Z\":26) and sums\n",
    "    up the individual numbers to create the sum of letter numbers.\n",
    "    \"\"\"\n",
    "    word_sum = sum([LETTERS[letter] for letter in word])\n",
    "    return word_sum"
   ]
  },
  {
   "cell_type": "markdown",
   "metadata": {
    "_uuid": "95140909e466440a7dc4be30678cc91f6c3ca663"
   },
   "source": [
    "## 4. Time"
   ]
  },
  {
   "cell_type": "code",
   "execution_count": null,
   "metadata": {
    "_uuid": "c01102cd376ebbf33c217bf9ce5c8c079307e63a"
   },
   "outputs": [],
   "source": [
    "import time\n",
    "\n",
    "start = time.time()\n",
    "# {stuff to be timed}\n",
    "print(f\"Time: {round(time.time() - start)} seconds\")"
   ]
  },
  {
   "cell_type": "code",
   "execution_count": null,
   "metadata": {
    "_uuid": "77a20006e213c658629ee763b9ddcbc6076d4fb5"
   },
   "outputs": [],
   "source": [
    "%time for i in range(2041): 3180**i%21 # line only, once\n",
    "for i in range(2041): 3180**i%21"
   ]
  },
  {
   "cell_type": "code",
   "execution_count": null,
   "metadata": {
    "_uuid": "964c3728c5e64447b12fa5c11095bec57ba40df4"
   },
   "outputs": [],
   "source": [
    "%%time  # whole cell, once\n",
    "for i in range(4082): 3180**i%21"
   ]
  },
  {
   "cell_type": "code",
   "execution_count": null,
   "metadata": {
    "_uuid": "814a6097c4c28f8c0fefb2e22db23fa1375e490e"
   },
   "outputs": [],
   "source": [
    "%timeit for i in range(2041): 3180**i%21  # line only, multiple times, returns mean + std"
   ]
  },
  {
   "cell_type": "code",
   "execution_count": null,
   "metadata": {
    "_uuid": "940cf7ae8bf2f611b4203c3e3e45f6cf71810a1c"
   },
   "outputs": [],
   "source": [
    "%%timeit  # whole cell, multiple times, returns mean + std\n",
    "for i in range(4082): 3180**i%21"
   ]
  },
  {
   "cell_type": "code",
   "execution_count": null,
   "metadata": {
    "_uuid": "964c3728c5e64447b12fa5c11095bec57ba40df4"
   },
   "outputs": [],
   "source": [
    "import cProfile\n",
    "\n",
    "cProfile.run('for i in range(4082): 3180**i%21')\n",
    "# NB: command to time in ''"
   ]
  },
  {
   "cell_type": "markdown",
   "metadata": {
    "_uuid": "8956b10436ca83f09987486d171406a53148a81d"
   },
   "source": [
    "## 5. Plots\n",
    "### Subplots"
   ]
  },
  {
   "cell_type": "code",
   "execution_count": 2,
   "metadata": {
    "_uuid": "ad7ede00c9d66ce0ee2aad6c581b2db9ab7510c1"
   },
   "outputs": [
    {
     "data": {
      "image/png": "[encoded data removed]",
      "text/plain": [
       "<Figure size 432x288 with 4 Axes>"
      ]
     },
     "metadata": {
      "needs_background": "light"
     },
     "output_type": "display_data"
    }
   ],
   "source": [
    "import matplotlib.pyplot as plt\n",
    "from math import sqrt\n",
    "\n",
    "plt.figure(1)  # First figure. Everything is plotted here until plt.figure() is called again.\n",
    "\n",
    "plt.subplot(221)  # 2 rows, 2 col, 1st subplot\n",
    "plt.plot([sqrt(x) for x in list(range(1,101))], label=\"square root\", linewidth=0.8, color=\"c\", marker=\"x\")\n",
    "# plt.ylim(-0.05, 0.05)\n",
    "plt.legend(loc=\"lower center\")\n",
    "plt.axhline(sqrt(50), color=\"r\")\n",
    "plt.grid(True)\n",
    "\n",
    "plt.subplot(222)\n",
    "plt.plot([x**2 for x in list(range(1,101))], label=\"square\")\n",
    "plt.legend()\n",
    "plt.axhline(50**2, color=\"r\")\n",
    "# plt.ylim(-0.05, 0.05)\n",
    "\n",
    "plt.subplot(223)  # 2 rows, 1 col, 1st subplot\n",
    "plt.plot([sqrt(x) for x in list(range(1,101))], label=\"square root log\", linewidth=0.8, color=\"c\", marker=\"x\")\n",
    "# plt.ylim(-0.05, 0.05)\n",
    "plt.legend(loc=\"lower center\")\n",
    "plt.yscale(\"log\")  # logarithmic scale\n",
    "plt.axhline(sqrt(50), color=\"r\")\n",
    "plt.grid(True)\n",
    "\n",
    "plt.subplot(224)\n",
    "plt.plot([x**2 for x in list(range(1,101))], label=\"square log\")\n",
    "plt.legend()\n",
    "plt.yscale(\"log\")  # logarithmic scale\n",
    "plt.axhline(50**2, color=\"r\")\n",
    "plt.axvline(84.17, color=\"y\")\n",
    "# plt.ylim(-0.05, 0.05)\n",
    "\n",
    "# von wo nach wo, height/width space between\n",
    "plt.subplots_adjust(top=1, bottom=0, left=0, right=1, hspace=0.25, wspace=0.25)  "
   ]
  },
  {
   "cell_type": "markdown",
   "metadata": {
    "_uuid": "3870873381fe9d2b841045f45c52b64f93a2d7df"
   },
   "source": [
    "## 6. Finance"
   ]
  },
  {
   "cell_type": "code",
   "execution_count": null,
   "metadata": {
    "_uuid": "ebb56ff7a6952b13735709f4e97a86c2fc05f443"
   },
   "outputs": [],
   "source": [
    "# import numpy as np\n",
    "def sharpe_ratio(returns, rf):\n",
    "    return (np.mean(returns) - rf) / np.std(returns)"
   ]
  },
  {
   "cell_type": "markdown",
   "metadata": {
    "_uuid": "47ba717cb3b2ac45565e1ad4aee1495c7ec6e0a9"
   },
   "source": [
    "## 7. Euler-specific funtions"
   ]
  },
  {
   "cell_type": "code",
   "execution_count": null,
   "metadata": {
    "_uuid": "e77ab9a9c33c283a947953b45652693aacf63923"
   },
   "outputs": [],
   "source": [
    "# problem 21 and 23\n",
    "from math import sqrt\n",
    "\n",
    "def proper_divisors(n):\n",
    "    \"\"\"\n",
    "    Finds the proper divisors of an integer n>1 as defined above and returns them in a list.\n",
    "    \"\"\"\n",
    "    div = [1]\n",
    "    top = int(sqrt(n))+1\n",
    "    for i in range(2, top):\n",
    "        if n%i == 0:\n",
    "            div.append(int(i))\n",
    "            div.append(int(n/i))\n",
    "    return sorted(set(div))\n",
    "\n",
    "def d(n):\n",
    "    return sum(proper_divisors(n))"
   ]
  },
  {
   "cell_type": "code",
   "execution_count": null,
   "metadata": {
    "_uuid": "e623b29fac779c108008a2ba035021eb9a89d9be"
   },
   "outputs": [],
   "source": [
    "# problem 21\n",
    "# define proper_divisors(n) first\n",
    "def amic_below(n):\n",
    "    \"\"\"\n",
    "    Finds amicable numbers below x\n",
    "    and returns them in a list.\n",
    "    \"\"\"\n",
    "    amic = []\n",
    "    for i in range(2, n):\n",
    "        for j in range(i+1, n):\n",
    "            if sum(proper_divisors(i)) == sum(proper_divisors(j)):\n",
    "                amic.append(i)\n",
    "                amic.append(j)\n",
    "    return sorted(list(set(amic)))"
   ]
  },
  {
   "cell_type": "code",
   "execution_count": null,
   "metadata": {
    "_uuid": "412a4a160824383b06a299a2aaea110f7bba9ec5"
   },
   "outputs": [],
   "source": [
    "# problem 35\n",
    "import itertools as it\n",
    "\"\"\"Get integer digit permutations.\"\"\"\n",
    "p = 280 # some integer\n",
    "perm_generator = it.permutations(str(p))\n",
    "perm_int_list = [int(''.join(x)) for x in perm_generator]\n",
    "perm_int_list\n",
    "## Beware of ze zero!\n",
    "[x for x in perm_int_list if len(str(x))==len(str(p))]"
   ]
  },
  {
   "cell_type": "markdown",
   "metadata": {
    "_uuid": "fa820f7830058481af929509748d6235834f557d"
   },
   "source": [
    "## 8. Others"
   ]
  },
  {
   "cell_type": "code",
   "execution_count": null,
   "metadata": {
    "_uuid": "ceadbe235ead5f80274199eaa482b6cb006da2af"
   },
   "outputs": [],
   "source": [
    "def digitsum(number):\n",
    "    \"\"\"Returns the sum of digits of a number.\"\"\"\n",
    "    return sum([int(digit) for digit in str(number)])"
   ]
  },
  {
   "cell_type": "code",
   "execution_count": null,
   "metadata": {},
   "outputs": [],
   "source": [
    "def gini(list_of_values):\n",
    "    sorted_list = sorted(list_of_values)\n",
    "    height, area = 0, 0\n",
    "    for value in sorted_list:\n",
    "        height += value\n",
    "        area += height - value / 2\n",
    "    fair_area = height * len(list_of_values) / 2\n",
    "    return (fair_area - area) / fair_area"
   ]
  },
  {
   "cell_type": "code",
   "execution_count": 2,
   "metadata": {},
   "outputs": [
    {
     "data": {
      "text/plain": [
       "Decimal('0.14285714285714285714285714285714286')"
      ]
     },
     "execution_count": 2,
     "metadata": {},
     "output_type": "execute_result"
    }
   ],
   "source": [
    "from decimal import Decimal, getcontext\n",
    "getcontext().prec = 25  # ~ Nachkommastellen\n",
    "Decimal(1) / Decimal(7)  # out: Decimal('0.1428571428571428571428571')\n",
    "getcontext().prec = 35  \n",
    "Decimal(1) / Decimal(7)  # out: Decimal('0.14285714285714285714285714285714286')"
   ]
  },
  {
   "cell_type": "code",
   "execution_count": null,
   "metadata": {},
   "outputs": [],
   "source": [
    "# Return x to the power y; \n",
    "# if z is present, return x to the power y, modulo z (computed more efficiently than pow(x, y) % z).\n",
    "# The two-argument form pow(x, y) is equivalent to using the power operator: x**y.\n",
    "\n",
    "pow(x, y[, z])"
   ]
  },
  {
   "cell_type": "code",
   "execution_count": null,
   "metadata": {
    "_uuid": "7a6d993dc4180353ac1ded8794a147899050f4f2"
   },
   "outputs": [],
   "source": [
    "# useful stuff:\n",
    "# logical: set1 & set2, set1 | set2, set1 + set2, set1 - set2\n",
    "# continue\n",
    "# itertools\n",
    "# itertools.chain([1,2], itertools.cycle([3,4]))  # 1, 2, 3, 4, 3, 4, 3, 4, ...\n"
   ]
  }
 ],
 "metadata": {
  "kernelspec": {
   "display_name": "Python 3",
   "language": "python",
   "name": "python3"
  },
  "language_info": {
   "codemirror_mode": {
    "name": "ipython",
    "version": 3
   },
   "file_extension": ".py",
   "mimetype": "text/x-python",
   "name": "python",
   "nbconvert_exporter": "python",
   "pygments_lexer": "ipython3",
   "version": "3.6.6"
  }
 },
 "nbformat": 4,
 "nbformat_minor": 2
}
