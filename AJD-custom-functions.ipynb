{
  "cells": [
    {
      "metadata": {
        "_cell_guid": "79c7e3d0-c299-4dcb-8224-4455121ee9b0",
        "collapsed": true,
        "_uuid": "d629ff2d2480ee46fbb7e2d37f6b5fab8052498a",
        "trusted": false
      },
      "cell_type": "markdown",
      "source": "# AJD Costum Functions\n## Overview\n\n### 1. Primes\n- `is_prime(n)`: Checks if integer `n` is a prime number.\n- `primes_below(n)`: Finds prime numbers below integer `n`.\n- `prime_divisors(n)`: Finds prime divisors of integer `n`.\n- `ratio(n)`: Ratio of steps that can be saved in checking for prime/non-prime `n`.\n\n### 2. Lists\n- `listproduct(lst)`: Returns the product of the elements in `lst`.\n\n### 3. Text-number-combinations\n- `word_to_number(word)`: Returns the sum of a word's letters' alphabetical index (A=1 etc.).\n\n### 4. Time\n- `time.time()`: Current time. Use to time long blocks of code.\n- `cProfiler`: Time single commands.\n\n### 5. Euler-specific functions\n- `proper_divisors(n)`\n- `amic_below(n)`:  Amicable numbers below `n`.\n\n### 6. Others\n- `digitsum(number)`: Returns the sum of the digits of `number`.\n"
    },
    {
      "metadata": {
        "_uuid": "d82ea22228d234cb4624ada0d0889a80a8476d8a"
      },
      "cell_type": "markdown",
      "source": "## 1. Primes"
    },
    {
      "metadata": {
        "trusted": true,
        "_uuid": "6ba6c44e1ac078f2b9848be5254e08c00dc076fe"
      },
      "cell_type": "code",
      "source": "def is_prime(n):\n    \"\"\"\n    Returns a boolean: 0 if n is not a prime, 1 if n is a prime.\n    \"\"\"\n    if n == 1:\n        return False\n    else:\n        bool_i = [n%2 == 0]\n        for i in range(3, int(sqrt(n))+1, 2):\n            bool_i.append(n%i == 0)\n        if sum(bool_i) == 0:\n            return True\n        elif n == 2:\n            return True\n        else:\n            return False",
      "execution_count": null,
      "outputs": []
    },
    {
      "metadata": {
        "trusted": true,
        "_uuid": "a65a418951bbf2514827dd21ea26bc7ffb8a0daf"
      },
      "cell_type": "code",
      "source": "def prime_i(i):\n    \"\"\"\n    Returns the i-th prime number.\n    \"\"\"\n    number = 3\n    index = 1\n    while index < i:\n        if is_prime(number):\n            index += 1\n        if index == i:\n            return number\n        number += 2",
      "execution_count": null,
      "outputs": []
    },
    {
      "metadata": {
        "trusted": true,
        "_uuid": "9c951ffcbbb8c82244597c619ac02197da696744"
      },
      "cell_type": "code",
      "source": "from math import sqrt\n\nfrom math import sqrt\n# use is_prime\n\ndef primes_below(n):\n    \"\"\"\n    Finds the prime numbers below (non-including) n\n    and returns them in a list.\n    \"\"\"\n    primes = [2]\n    for i in range(3,n):\n        if is_prime(i):\n            primes.append(i)\n    return(primes)\n\n# or, without is_prime\n\ndef primes_below(n):\n    \"\"\"\n    Finds the prime numbers below (non-including) n\n    and returns them in a list.\n    \"\"\"\n    primes = [2]\n    for i in range(3,n):\n        bool_i = [i%2 == 0]\n        for j in range(3, int(sqrt(i))+1, 2):\n            bool_i.append(i%j == 0)\n        if sum(bool_i) == 0:\n            primes.append(i)\n    return(primes)\n\n# slightly less efficient variation\n# def primes_below(x):\n#     \"\"\"\n#     Finds the prime numbers below (non-including) x\n#     and returns them in a list.\n#     \"\"\"\n#     primes = []\n#     for i in range(2,x):\n#         bool_i = []\n#         for j in range(2, int(sqrt(i))+1):\n#             bool_i.append(i%j == 0)\n#         if sum(bool_i) == 0:\n#             primes.append(i)\n#     return(primes)",
      "execution_count": null,
      "outputs": []
    },
    {
      "metadata": {
        "trusted": true,
        "_uuid": "a5e5347916c5f3c6a1a075a2a50b7f3c72f3b347"
      },
      "cell_type": "code",
      "source": "# define primes_below()\n\ndef prime_divisors(n):\n    \"\"\"\n    Finds the prime divisors of a number n and returns them in a list.\n    \"\"\"\n    div = []\n    for i in primes_below(n+1):\n        if n%i == 0:\n            div.append(int(i))\n    return sorted(div)",
      "execution_count": null,
      "outputs": []
    },
    {
      "metadata": {
        "trusted": true,
        "_uuid": "adde4d7bca65ad1ec627fc5cd427ae7b03433434"
      },
      "cell_type": "code",
      "source": "def ratio(n):\n    \"\"\"\n    Returns the ratio of the square root of x to x\n    in linear space.\n    \"\"\"\n    ratio = (sqrt(n)/2)/n\n    return ratio\n\nx = prime_i(10001)\nprint(f\"When checking if {x} is a prime number, we can save {round(1-ratio(x),4)*100} % by only checking until the square root of {x}.\")",
      "execution_count": null,
      "outputs": []
    },
    {
      "metadata": {
        "_uuid": "ee1f0aeb36699eb3c88d63a7310518cc7280e70e"
      },
      "cell_type": "markdown",
      "source": "## 2. Lists"
    },
    {
      "metadata": {
        "trusted": true,
        "_uuid": "bde6c721eb39a60fac2912254abb09c7be4e2271"
      },
      "cell_type": "code",
      "source": "def listproduct(lst):\n    \"\"\"\n    Takes a list argument and returns the \n    product of all its elements.\n    \"\"\"\n    product = 1\n    for number in lst:\n        product *= number\n    return product",
      "execution_count": null,
      "outputs": []
    },
    {
      "metadata": {
        "_uuid": "6b5ee14007881f5463d290cd9bf2f5e3c0739706"
      },
      "cell_type": "markdown",
      "source": "## 3. Text-number-combinations"
    },
    {
      "metadata": {
        "trusted": true,
        "_uuid": "533466dda685ffb87430420467e4dcfd93640a3a"
      },
      "cell_type": "code",
      "source": "from string import ascii_uppercase\nimport pandas as pd\n\n# create dictionary for letter:number combinations {\"A\":1, \"B\":2, ...}\nLETTERS = {letter:index+1 for index, letter in enumerate(ascii_uppercase)} \n\ndef word_to_number(word):\n    \"\"\"\n    Takes a word, matches its single letters to a dictionary\n    value in LETTERS (which matches \"A\":1 ... \"Z\":26) and sums\n    up the individual numbers to create the sum of letter numbers.\n    \"\"\"\n    word_sum = sum([LETTERS[letter] for letter in word])\n    return word_sum",
      "execution_count": null,
      "outputs": []
    },
    {
      "metadata": {
        "_uuid": "95140909e466440a7dc4be30678cc91f6c3ca663"
      },
      "cell_type": "markdown",
      "source": "## 4. Time"
    },
    {
      "metadata": {
        "trusted": true,
        "_uuid": "c01102cd376ebbf33c217bf9ce5c8c079307e63a"
      },
      "cell_type": "code",
      "source": "import time\n\nstart = time.time()\n# {stuff to be timed}\nprint(f\"Time: {round(time.time() - start)} seconds\")",
      "execution_count": 2,
      "outputs": [
        {
          "output_type": "stream",
          "text": "Time: 0 seconds\n",
          "name": "stdout"
        }
      ]
    },
    {
      "metadata": {
        "trusted": true,
        "_uuid": "964c3728c5e64447b12fa5c11095bec57ba40df4"
      },
      "cell_type": "code",
      "source": "import cProfile\n\ncProfile.run('primes_below(100000)')\n# NB: command to time in ''",
      "execution_count": null,
      "outputs": []
    },
    {
      "metadata": {
        "_uuid": "47ba717cb3b2ac45565e1ad4aee1495c7ec6e0a9"
      },
      "cell_type": "markdown",
      "source": "## 5. Euler-specific funtions"
    },
    {
      "metadata": {
        "trusted": true,
        "_uuid": "e77ab9a9c33c283a947953b45652693aacf63923"
      },
      "cell_type": "code",
      "source": "# problem 21 and 23\nfrom math import sqrt\n\ndef proper_divisors(n):\n    \"\"\"\n    Finds the proper divisors of an integer n>1 as defined above and returns them in a list.\n    \"\"\"\n    div = [1]\n    top = int(sqrt(n))+1\n    for i in range(2, top):\n        if n%i == 0:\n            div.append(int(i))\n            if n/i != i:\n                div.append(int(n/i))\n    return sorted(div)\n\ndef d(n):\n    return sum(proper_divisors(n))",
      "execution_count": null,
      "outputs": []
    },
    {
      "metadata": {
        "trusted": true,
        "_uuid": "e623b29fac779c108008a2ba035021eb9a89d9be"
      },
      "cell_type": "code",
      "source": "# problem 21\n# define proper_divisors(n) first\ndef amic_below(n):\n    \"\"\"\n    Finds amicable numbers below x\n    and returns them in a list.\n    \"\"\"\n    amic = []\n    for i in range(2, n):\n        for j in range(i+1, n):\n            if sum(proper_divisors(i)) == sum(proper_divisors(j)):\n                amic.append(i)\n                amic.append(j)\n    return sorted(list(set(amic)))",
      "execution_count": null,
      "outputs": []
    },
    {
      "metadata": {
        "_uuid": "fa820f7830058481af929509748d6235834f557d"
      },
      "cell_type": "markdown",
      "source": "## 6. Others"
    },
    {
      "metadata": {
        "trusted": true,
        "_uuid": "ceadbe235ead5f80274199eaa482b6cb006da2af"
      },
      "cell_type": "code",
      "source": "def digitsum(number):\n    \"\"\"Returns the sum of digits of a number.\"\"\"\n    return sum([int(digit) for digit in str(number)])",
      "execution_count": null,
      "outputs": []
    }
  ],
  "metadata": {
    "kernelspec": {
      "display_name": "Python 3",
      "language": "python",
      "name": "python3"
    },
    "language_info": {
      "name": "python",
      "version": "3.6.6",
      "mimetype": "text/x-python",
      "codemirror_mode": {
        "name": "ipython",
        "version": 3
      },
      "pygments_lexer": "ipython3",
      "nbconvert_exporter": "python",
      "file_extension": ".py"
    }
  },
  "nbformat": 4,
  "nbformat_minor": 1
}